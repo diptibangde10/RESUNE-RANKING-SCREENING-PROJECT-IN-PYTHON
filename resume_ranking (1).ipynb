{
 "cells": [
  {
   "cell_type": "code",
   "execution_count": 3,
   "id": "9f0dfeef-9144-4fa5-aa3f-65fa3f0e3d7b",
   "metadata": {},
   "outputs": [],
   "source": [
    "import streamlit as st\n",
    "from PyPDF2 import PdfReader\n",
    "import pandas as pd\n",
    "from sklearn.feature_extraction.text import TfidfVectorizer\n",
    "from sklearn.metrics.pairwise import cosine_similarity"
   ]
  },
  {
   "cell_type": "code",
   "execution_count": 4,
   "id": "adeaac88-5c56-4971-bb3f-59c4bbb60c4a",
   "metadata": {},
   "outputs": [],
   "source": [
    "# Function to extract text from PDF\n",
    "def extract_text_from_pdf(file):\n",
    "    pdf = PdfReader(file)\n",
    "    text = \"\"\n",
    "    for page in pdf.pages:\n",
    "        text += page.extract_text()\n",
    "    return text"
   ]
  },
  {
   "cell_type": "code",
   "execution_count": 6,
   "id": "5346adba-c7be-43e0-8962-c8ea95db7c18",
   "metadata": {},
   "outputs": [
    {
     "name": "stdout",
     "output_type": "stream",
     "text": [
      "Cosine Similarities: [0.47894847 0.0371655  0.12937591]\n",
      "Resume 1 similarity: 0.47894847126501505\n",
      "Resume 2 similarity: 0.03716549903926591\n",
      "Resume 3 similarity: 0.12937591198581325\n",
      "[{'resume_text': 'Experienced software engineer with 5 years of Python development and machine learning projects.', 'similarity': 0.47894847126501505}, {'resume_text': 'A marketing professional with experience in social media management.', 'similarity': 0.03716549903926591}, {'resume_text': 'Python developer with 2 years of experience.', 'similarity': 0.12937591198581325}]\n"
     ]
    }
   ],
   "source": [
    "import numpy as np\n",
    "from sklearn.feature_extraction.text import TfidfVectorizer\n",
    "from sklearn.metrics.pairwise import cosine_similarity\n",
    "\n",
    "def rank_resumes(job_description, resumes):\n",
    "    \"\"\"\n",
    "    Ranks resumes based on their similarity to a job description using TF-IDF and cosine similarity.\n",
    "\n",
    "    Args:\n",
    "        job_description (str): The text of the job description.\n",
    "        resumes (list of str): A list of resume texts.\n",
    "\n",
    "    Returns:\n",
    "        numpy.ndarray: An array of cosine similarity scores, where each score represents the similarity of a resume to the job description.\n",
    "    \"\"\"\n",
    "\n",
    "    documents = [job_description] + resumes\n",
    "    vectorizer = TfidfVectorizer()\n",
    "    vectors = vectorizer.fit_transform(documents).toarray()\n",
    "\n",
    "    # Calculate cosine similarity\n",
    "    job_description_vector = vectors[0].reshape(1, -1)  # Reshape for cosine_similarity\n",
    "    resume_vectors = vectors[1:]\n",
    "\n",
    "    cosine_similarities = cosine_similarity(job_description_vector, resume_vectors).flatten()\n",
    "\n",
    "    return cosine_similarities\n",
    "\n",
    "# Example usage (demonstrating how to use the function):\n",
    "\n",
    "job_desc = \"Looking for a software engineer with strong Python and machine learning skills.\"\n",
    "resume1 = \"Experienced software engineer with 5 years of Python development and machine learning projects.\"\n",
    "resume2 = \"A marketing professional with experience in social media management.\"\n",
    "resume3 = \"Python developer with 2 years of experience.\"\n",
    "\n",
    "resume_list = [resume1, resume2, resume3]\n",
    "\n",
    "similarities = rank_resumes(job_desc, resume_list)\n",
    "\n",
    "print(\"Cosine Similarities:\", similarities)\n",
    "for i, similarity in enumerate(similarities):\n",
    "  print(f\"Resume {i+1} similarity: {similarity}\")\n",
    "\n",
    "# Example of how to add the results to a list of dicts.\n",
    "ranked_resumes = []\n",
    "for i, similarity in enumerate(similarities):\n",
    "  ranked_resumes.append({\"resume_text\": resume_list[i], \"similarity\": similarity})\n",
    "\n",
    "print(ranked_resumes)"
   ]
  },
  {
   "cell_type": "code",
   "execution_count": 7,
   "id": "fe4f6753-d769-43c4-891a-4874d57ebdf6",
   "metadata": {},
   "outputs": [
    {
     "name": "stderr",
     "output_type": "stream",
     "text": [
      "2025-03-31 08:51:18.503 WARNING streamlit.runtime.scriptrunner_utils.script_run_context: Thread 'MainThread': missing ScriptRunContext! This warning can be ignored when running in bare mode.\n",
      "2025-03-31 08:51:19.026 \n",
      "  \u001b[33m\u001b[1mWarning:\u001b[0m to view this Streamlit app on a browser, run it with the following\n",
      "  command:\n",
      "\n",
      "    streamlit run d:\\a\\Lib\\site-packages\\ipykernel_launcher.py [ARGUMENTS]\n",
      "2025-03-31 08:51:19.027 Thread 'MainThread': missing ScriptRunContext! This warning can be ignored when running in bare mode.\n",
      "2025-03-31 08:51:19.027 Thread 'MainThread': missing ScriptRunContext! This warning can be ignored when running in bare mode.\n",
      "2025-03-31 08:51:19.030 Thread 'MainThread': missing ScriptRunContext! This warning can be ignored when running in bare mode.\n",
      "2025-03-31 08:51:19.032 Thread 'MainThread': missing ScriptRunContext! This warning can be ignored when running in bare mode.\n",
      "2025-03-31 08:51:19.034 Thread 'MainThread': missing ScriptRunContext! This warning can be ignored when running in bare mode.\n",
      "2025-03-31 08:51:19.035 Thread 'MainThread': missing ScriptRunContext! This warning can be ignored when running in bare mode.\n",
      "2025-03-31 08:51:19.035 Thread 'MainThread': missing ScriptRunContext! This warning can be ignored when running in bare mode.\n",
      "2025-03-31 08:51:19.036 Session state does not function when running a script without `streamlit run`\n",
      "2025-03-31 08:51:19.038 Thread 'MainThread': missing ScriptRunContext! This warning can be ignored when running in bare mode.\n",
      "2025-03-31 08:51:19.038 Thread 'MainThread': missing ScriptRunContext! This warning can be ignored when running in bare mode.\n"
     ]
    }
   ],
   "source": [
    "# Streamlit app\n",
    "st.title(\"AI Resume Screening & Candidate Ranking System\")\n",
    "# Job description input\n",
    "st.header(\"Job Description\")\n",
    "job_description= st.text_area (\"Enter the job description\")"
   ]
  },
  {
   "cell_type": "code",
   "execution_count": 8,
   "id": "8b4202d6-4e09-4119-b1fd-9adb991b4ab5",
   "metadata": {},
   "outputs": [
    {
     "name": "stderr",
     "output_type": "stream",
     "text": [
      "2025-03-31 08:51:23.764 Thread 'MainThread': missing ScriptRunContext! This warning can be ignored when running in bare mode.\n",
      "2025-03-31 08:51:23.766 Thread 'MainThread': missing ScriptRunContext! This warning can be ignored when running in bare mode.\n",
      "2025-03-31 08:51:23.769 Thread 'MainThread': missing ScriptRunContext! This warning can be ignored when running in bare mode.\n",
      "2025-03-31 08:51:23.770 Thread 'MainThread': missing ScriptRunContext! This warning can be ignored when running in bare mode.\n",
      "2025-03-31 08:51:23.772 Thread 'MainThread': missing ScriptRunContext! This warning can be ignored when running in bare mode.\n",
      "2025-03-31 08:51:23.774 Thread 'MainThread': missing ScriptRunContext! This warning can be ignored when running in bare mode.\n",
      "2025-03-31 08:51:23.775 Thread 'MainThread': missing ScriptRunContext! This warning can be ignored when running in bare mode.\n"
     ]
    }
   ],
   "source": [
    "# File uploader\n",
    "st.header(\"Upload Resumes\")\n",
    "uploaded_files = st.file_uploader(\"Upload PDF files\", type=[\"pdf\"], accept_multiple_files=True)"
   ]
  },
  {
   "cell_type": "code",
   "execution_count": 9,
   "id": "8e218fd3-19a8-4514-98bb-e5d6672df465",
   "metadata": {},
   "outputs": [],
   "source": [
    "if uploaded_files and job_description:\n",
    "    st.header(\"Ranking Resumes\")\n",
    "    \n",
    "    resumes = []\n",
    "    for file in uploaded_files:\n",
    "        text = extract_text_from_pdf(file)\n",
    "        resumes.append(text)\n",
    "\n",
    "    # Rank resumes\n",
    "    scores = rank_resumes(job_description, resumes)\n",
    "\n",
    "    # Display scores\n",
    "    results = pd.DataFrame({\"Resume\": [file.name for file in uploaded_files], \"Score\": score })\n",
    "    results = results.sort_values(by=\"Score\", ascending=False)\n",
    "    \n",
    "    st.write(results)"
   ]
  },
  {
   "cell_type": "code",
   "execution_count": null,
   "id": "36f4c751-0615-4257-9dd4-36253f1e31e9",
   "metadata": {},
   "outputs": [],
   "source": []
  }
 ],
 "metadata": {
  "kernelspec": {
   "display_name": "Python 3",
   "language": "python",
   "name": "python3"
  },
  "language_info": {
   "codemirror_mode": {
    "name": "ipython",
    "version": 3
   },
   "file_extension": ".py",
   "mimetype": "text/x-python",
   "name": "python",
   "nbconvert_exporter": "python",
   "pygments_lexer": "ipython3",
   "version": "3.12.3"
  }
 },
 "nbformat": 4,
 "nbformat_minor": 5
}
